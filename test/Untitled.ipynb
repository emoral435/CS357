{
 "cells": [
  {
   "cell_type": "code",
   "execution_count": 25,
   "id": "2740032a",
   "metadata": {},
   "outputs": [
    {
     "name": "stdout",
     "output_type": "stream",
     "text": [
      "115.9533941236069\n",
      "1.2312131488008113\n"
     ]
    }
   ],
   "source": [
    "xCh, erCh = 294.4, 0.06\n",
    "xMil, erMil = 207.1, 0.05\n",
    "\n",
    "errPosibilities = [[(xCh / (1 - erCh)), (xMil / (1 - erMil))],\n",
    "       [(xCh / (1 - erCh)), (xMil / (1 + erMil))],\n",
    "       [(xCh / (1 + erCh)), (xMil / (1 - erMil))],\n",
    "       [(xCh / (1 + erCh)), (xMil / (1 + erMil))]]\n",
    "\n",
    "res = 0\n",
    "\n",
    "xHat = xCh + xMil\n",
    "\n",
    "for a, b in errPosibilities:\n",
    "    res = max(res, abs(a - b))\n",
    "\n",
    "print(res)\n",
    "print((xHat + res) / xHat)\n"
   ]
  },
  {
   "cell_type": "code",
   "execution_count": 31,
   "id": "cb9dc862",
   "metadata": {},
   "outputs": [],
   "source": [
    "res = 34"
   ]
  },
  {
   "cell_type": "code",
   "execution_count": 32,
   "id": "85ba1fda",
   "metadata": {},
   "outputs": [],
   "source": [
    "for i in range(14):\n",
    "    res = res * 2"
   ]
  },
  {
   "cell_type": "code",
   "execution_count": 33,
   "id": "9a4e1c0f",
   "metadata": {},
   "outputs": [
    {
     "name": "stdout",
     "output_type": "stream",
     "text": [
      "557056\n"
     ]
    }
   ],
   "source": [
    "print(res)"
   ]
  },
  {
   "cell_type": "code",
   "execution_count": 36,
   "id": "a5d6f1e3",
   "metadata": {
    "scrolled": true
   },
   "outputs": [
    {
     "data": {
      "text/plain": [
       "113.04347826086958"
      ]
     },
     "execution_count": 36,
     "metadata": {},
     "output_type": "execute_result"
    }
   ],
   "source": [
    "(26)/(1-.77)"
   ]
  },
  {
   "cell_type": "code",
   "execution_count": 39,
   "id": "ea2b0b32",
   "metadata": {},
   "outputs": [
    {
     "name": "stdout",
     "output_type": "stream",
     "text": [
      "(0, 1, 2)\n",
      "True\n"
     ]
    }
   ],
   "source": [
    "import sympy \n",
    "import numpy as np\n",
    "matrix = np.array([\n",
    "  [3, 1, 2],\n",
    "  [2, 1, 1],\n",
    "  [1, 2, 1]\n",
    "])\n",
    "\n",
    "_, indexes = sympy.Matrix(matrix).T.rref()  # T is for transpose\n",
    "print(indexes)\n",
    "if len(indexes) == 3:\n",
    "    print(\"True\")"
   ]
  },
  {
   "cell_type": "code",
   "execution_count": 40,
   "id": "30318416",
   "metadata": {},
   "outputs": [
    {
     "data": {
      "text/plain": [
       "1000000.0"
      ]
     },
     "execution_count": 40,
     "metadata": {},
     "output_type": "execute_result"
    }
   ],
   "source": [
    "((10**4) * (10**4))/100 "
   ]
  },
  {
   "cell_type": "code",
   "execution_count": 59,
   "id": "611571e5",
   "metadata": {},
   "outputs": [],
   "source": [
    "ch = 229.8\n",
    "mi = 218.7\n",
    "x = (ch + mi)"
   ]
  },
  {
   "cell_type": "code",
   "execution_count": 65,
   "id": "25139f39",
   "metadata": {},
   "outputs": [
    {
     "name": "stdout",
     "output_type": "stream",
     "text": [
      "0.07021880716040506\n"
     ]
    }
   ],
   "source": [
    "print(abs(((ch / (1-0.08)) + (mi / (1-0.05))) - (x)) / x)"
   ]
  },
  {
   "cell_type": "code",
   "execution_count": 66,
   "id": "77d5d904",
   "metadata": {},
   "outputs": [
    {
     "name": "stdout",
     "output_type": "stream",
     "text": [
      "8.999999999925734e-06\n"
     ]
    }
   ],
   "source": [
    "print(abs(2.999991 - 3))"
   ]
  },
  {
   "cell_type": "code",
   "execution_count": 67,
   "id": "c994d599",
   "metadata": {},
   "outputs": [
    {
     "name": "stdout",
     "output_type": "stream",
     "text": [
      "71.76470588235294\n"
     ]
    }
   ],
   "source": [
    "print((61)/(1-.15))"
   ]
  },
  {
   "cell_type": "code",
   "execution_count": 68,
   "id": "ccee21fc",
   "metadata": {},
   "outputs": [
    {
     "data": {
      "text/plain": [
       "70.14999999999999"
      ]
     },
     "execution_count": 68,
     "metadata": {},
     "output_type": "execute_result"
    }
   ],
   "source": [
    "61 * 1.15\n"
   ]
  },
  {
   "cell_type": "code",
   "execution_count": 69,
   "id": "47ce7f38",
   "metadata": {},
   "outputs": [
    {
     "data": {
      "text/plain": [
       "1375"
      ]
     },
     "execution_count": 69,
     "metadata": {},
     "output_type": "execute_result"
    }
   ],
   "source": [
    "125 * 11"
   ]
  },
  {
   "cell_type": "code",
   "execution_count": 70,
   "id": "c0d93376",
   "metadata": {},
   "outputs": [
    {
     "data": {
      "text/plain": [
       "8.999999998593466e-07"
      ]
     },
     "execution_count": 70,
     "metadata": {},
     "output_type": "execute_result"
    }
   ],
   "source": [
    "abs(2.9999991 - 3)"
   ]
  },
  {
   "cell_type": "code",
   "execution_count": 71,
   "id": "fc34de7c",
   "metadata": {},
   "outputs": [
    {
     "data": {
      "text/plain": [
       "5.999999999062311e-07"
      ]
     },
     "execution_count": 71,
     "metadata": {},
     "output_type": "execute_result"
    }
   ],
   "source": [
    "abs(6.9999994-7)"
   ]
  },
  {
   "cell_type": "code",
   "execution_count": 72,
   "id": "a2a01634",
   "metadata": {},
   "outputs": [
    {
     "data": {
      "text/plain": [
       "73.26"
      ]
     },
     "execution_count": 72,
     "metadata": {},
     "output_type": "execute_result"
    }
   ],
   "source": [
    "66 * 1.11"
   ]
  },
  {
   "cell_type": "code",
   "execution_count": 77,
   "id": "7d191a1b",
   "metadata": {},
   "outputs": [
    {
     "name": "stdout",
     "output_type": "stream",
     "text": [
      "[ 8 19  9]\n"
     ]
    }
   ],
   "source": [
    "A = np.array([\n",
    "    [8, 16, 5],\n",
    "    [19, 18, 14],\n",
    "    [9, 15, 6]\n",
    "])\n",
    "y = np.array([1, 0, 0])\n",
    "print(A@y)"
   ]
  },
  {
   "cell_type": "code",
   "execution_count": 79,
   "id": "2234cbfb",
   "metadata": {},
   "outputs": [
    {
     "data": {
      "text/plain": [
       "array([ 7,  2, -3])"
      ]
     },
     "execution_count": 79,
     "metadata": {},
     "output_type": "execute_result"
    }
   ],
   "source": [
    "import numpy as np\n",
    "a = np.arange(1, 10)\n",
    "a[::-3] - a[1:7:2]"
   ]
  },
  {
   "cell_type": "code",
   "execution_count": 80,
   "id": "eab43389",
   "metadata": {},
   "outputs": [
    {
     "data": {
      "text/plain": [
       "0.00039999999999995595"
      ]
     },
     "execution_count": 80,
     "metadata": {},
     "output_type": "execute_result"
    }
   ],
   "source": [
    "abs(4.9996 - 5)"
   ]
  },
  {
   "cell_type": "code",
   "execution_count": null,
   "id": "87d9eb0d",
   "metadata": {},
   "outputs": [],
   "source": []
  }
 ],
 "metadata": {
  "kernelspec": {
   "display_name": "Python 3 (ipykernel)",
   "language": "python",
   "name": "python3"
  },
  "language_info": {
   "codemirror_mode": {
    "name": "ipython",
    "version": 3
   },
   "file_extension": ".py",
   "mimetype": "text/x-python",
   "name": "python",
   "nbconvert_exporter": "python",
   "pygments_lexer": "ipython3",
   "version": "3.11.3"
  }
 },
 "nbformat": 4,
 "nbformat_minor": 5
}

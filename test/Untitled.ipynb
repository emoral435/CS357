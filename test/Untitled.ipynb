{
 "cells": [
  {
   "cell_type": "code",
   "execution_count": 1,
   "id": "01d456fa",
   "metadata": {},
   "outputs": [],
   "source": [
    "A = [1,2,3,4]\n",
    "B = A\n",
    "C = A\n",
    "\n",
    "B.append(5)\n",
    "C = C + [6]\n",
    "B.append(6)"
   ]
  },
  {
   "cell_type": "code",
   "execution_count": 2,
   "id": "305a1cd5",
   "metadata": {},
   "outputs": [
    {
     "name": "stdout",
     "output_type": "stream",
     "text": [
      "True\n"
     ]
    }
   ],
   "source": [
    "print(A is B)"
   ]
  },
  {
   "cell_type": "code",
   "execution_count": 3,
   "id": "89f19aa4",
   "metadata": {},
   "outputs": [
    {
     "name": "stdout",
     "output_type": "stream",
     "text": [
      "True\n"
     ]
    }
   ],
   "source": [
    "print(A==B)"
   ]
  },
  {
   "cell_type": "code",
   "execution_count": 5,
   "id": "c285a5cb",
   "metadata": {},
   "outputs": [
    {
     "name": "stdout",
     "output_type": "stream",
     "text": [
      "True\n"
     ]
    }
   ],
   "source": [
    "print(A==C)"
   ]
  },
  {
   "cell_type": "code",
   "execution_count": 6,
   "id": "7d71b1f7",
   "metadata": {},
   "outputs": [
    {
     "name": "stdout",
     "output_type": "stream",
     "text": [
      "False\n"
     ]
    }
   ],
   "source": [
    "print(A is C)"
   ]
  },
  {
   "cell_type": "code",
   "execution_count": 7,
   "id": "46950069",
   "metadata": {},
   "outputs": [
    {
     "name": "stdout",
     "output_type": "stream",
     "text": [
      "True\n"
     ]
    }
   ],
   "source": [
    "print(B==C)"
   ]
  },
  {
   "cell_type": "code",
   "execution_count": 8,
   "id": "2b7ceb98",
   "metadata": {},
   "outputs": [
    {
     "name": "stdout",
     "output_type": "stream",
     "text": [
      "False\n"
     ]
    }
   ],
   "source": [
    "print(B is C)"
   ]
  },
  {
   "cell_type": "code",
   "execution_count": 11,
   "id": "5cfb6b95",
   "metadata": {},
   "outputs": [
    {
     "name": "stdout",
     "output_type": "stream",
     "text": [
      "['compsci', 'math'] ['compsci', 'math']\n"
     ]
    }
   ],
   "source": [
    "def add_math_minor(person):\n",
    "    person.append('math')\n",
    "\n",
    "def switch(person):\n",
    "    person = ['physics']\n",
    "    person.append('economics')\n",
    "\n",
    "J = ['compsci']\n",
    "T = J\n",
    "add_math_minor(T)\n",
    "switch(J)\n",
    "print(J, T)"
   ]
  },
  {
   "cell_type": "code",
   "execution_count": 18,
   "id": "ef040933",
   "metadata": {},
   "outputs": [],
   "source": [
    "myDict = {'ravi': 10, 'rajnish': 9,\n",
    "        'sanjeev': 15, 'yash': 2, 'suraj': 32}"
   ]
  },
  {
   "cell_type": "code",
   "execution_count": 28,
   "id": "05310ba0",
   "metadata": {},
   "outputs": [
    {
     "name": "stdout",
     "output_type": "stream",
     "text": [
      "2 yash\n",
      "9 rajnish\n",
      "10 ravi\n",
      "15 sanjeev\n",
      "32 suraj\n"
     ]
    }
   ],
   "source": [
    "sortedD = sorted(myDict, key=myDict.get, reverse=False)\n",
    "for key in sortedD:\n",
    "    print(myDict[key], key)"
   ]
  },
  {
   "cell_type": "code",
   "execution_count": null,
   "id": "9fc3984c",
   "metadata": {},
   "outputs": [],
   "source": []
  }
 ],
 "metadata": {
  "kernelspec": {
   "display_name": "Python 3 (ipykernel)",
   "language": "python",
   "name": "python3"
  },
  "language_info": {
   "codemirror_mode": {
    "name": "ipython",
    "version": 3
   },
   "file_extension": ".py",
   "mimetype": "text/x-python",
   "name": "python",
   "nbconvert_exporter": "python",
   "pygments_lexer": "ipython3",
   "version": "3.11.3"
  }
 },
 "nbformat": 4,
 "nbformat_minor": 5
}
